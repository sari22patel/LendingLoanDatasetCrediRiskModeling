{
 "cells": [
  {
   "cell_type": "code",
   "execution_count": 38,
   "metadata": {},
   "outputs": [],
   "source": [
    "# Import warnings. Supress warnings (for  matplotlib)\n",
    "import warnings\n",
    "warnings.filterwarnings(\"ignore\")\n",
    "\n",
    "# Importing pandas and sci-kit learn modules\n",
    "import pandas as pd\n",
    "from sklearn.cross_validation import train_test_split, cross_val_score\n",
    "from sklearn.preprocessing import MinMaxScaler\n",
    "from sklearn.preprocessing import RobustScaler\n",
    "from sklearn.metrics import confusion_matrix, classification_report, precision_score, recall_score, roc_curve, auc, accuracy_score\n",
    "\n",
    "\n",
    "## Import Scikit Learn KNN\n",
    "from sklearn.neighbors import KNeighborsClassifier\n",
    "\n",
    "## Import visualization modules\n",
    "import matplotlib.pyplot as plt\n",
    "import matplotlib.mlab as mlab"
   ]
  },
  {
   "cell_type": "code",
   "execution_count": 2,
   "metadata": {},
   "outputs": [],
   "source": [
    "## Read in the lending club dataset from final.csv\n",
    "data = pd.read_csv('/Users/sarita/AnacondaProjects/python/data/final.csv',delimiter=',',na_values='nan')"
   ]
  },
  {
   "cell_type": "code",
   "execution_count": 3,
   "metadata": {},
   "outputs": [],
   "source": [
    "## Redcuing feature space to only continuous features\n",
    "continuous_features = data[[\"loan_amnt\", \"int_rate\", \"annual_inc\", \"installment\", \"revol_util\", \"loan_status\"]]"
   ]
  },
  {
   "cell_type": "code",
   "execution_count": 4,
   "metadata": {},
   "outputs": [
    {
     "data": {
      "text/html": [
       "<div>\n",
       "<style scoped>\n",
       "    .dataframe tbody tr th:only-of-type {\n",
       "        vertical-align: middle;\n",
       "    }\n",
       "\n",
       "    .dataframe tbody tr th {\n",
       "        vertical-align: top;\n",
       "    }\n",
       "\n",
       "    .dataframe thead th {\n",
       "        text-align: right;\n",
       "    }\n",
       "</style>\n",
       "<table border=\"1\" class=\"dataframe\">\n",
       "  <thead>\n",
       "    <tr style=\"text-align: right;\">\n",
       "      <th></th>\n",
       "      <th>loan_amnt</th>\n",
       "      <th>int_rate</th>\n",
       "      <th>annual_inc</th>\n",
       "      <th>installment</th>\n",
       "      <th>revol_util</th>\n",
       "      <th>loan_status</th>\n",
       "    </tr>\n",
       "  </thead>\n",
       "  <tbody>\n",
       "    <tr>\n",
       "      <th>0</th>\n",
       "      <td>5000</td>\n",
       "      <td>10.65</td>\n",
       "      <td>24000.0</td>\n",
       "      <td>162.87</td>\n",
       "      <td>83.7</td>\n",
       "      <td>0</td>\n",
       "    </tr>\n",
       "    <tr>\n",
       "      <th>1</th>\n",
       "      <td>2500</td>\n",
       "      <td>15.27</td>\n",
       "      <td>30000.0</td>\n",
       "      <td>59.83</td>\n",
       "      <td>9.4</td>\n",
       "      <td>1</td>\n",
       "    </tr>\n",
       "    <tr>\n",
       "      <th>2</th>\n",
       "      <td>2400</td>\n",
       "      <td>15.96</td>\n",
       "      <td>12252.0</td>\n",
       "      <td>84.33</td>\n",
       "      <td>98.5</td>\n",
       "      <td>0</td>\n",
       "    </tr>\n",
       "    <tr>\n",
       "      <th>3</th>\n",
       "      <td>10000</td>\n",
       "      <td>13.49</td>\n",
       "      <td>49200.0</td>\n",
       "      <td>339.31</td>\n",
       "      <td>21.0</td>\n",
       "      <td>0</td>\n",
       "    </tr>\n",
       "    <tr>\n",
       "      <th>4</th>\n",
       "      <td>5000</td>\n",
       "      <td>7.90</td>\n",
       "      <td>36000.0</td>\n",
       "      <td>156.46</td>\n",
       "      <td>28.3</td>\n",
       "      <td>0</td>\n",
       "    </tr>\n",
       "  </tbody>\n",
       "</table>\n",
       "</div>"
      ],
      "text/plain": [
       "   loan_amnt  int_rate  annual_inc  installment  revol_util  loan_status\n",
       "0       5000     10.65     24000.0       162.87        83.7            0\n",
       "1       2500     15.27     30000.0        59.83         9.4            1\n",
       "2       2400     15.96     12252.0        84.33        98.5            0\n",
       "3      10000     13.49     49200.0       339.31        21.0            0\n",
       "4       5000      7.90     36000.0       156.46        28.3            0"
      ]
     },
     "execution_count": 4,
     "metadata": {},
     "output_type": "execute_result"
    }
   ],
   "source": [
    "## Retireieving initial 5 rows from the continuous_features dataframe.\n",
    "continuous_features.head()"
   ]
  },
  {
   "cell_type": "code",
   "execution_count": 5,
   "metadata": {},
   "outputs": [
    {
     "data": {
      "text/plain": [
       "<matplotlib.axes._subplots.AxesSubplot at 0x1a14201a58>"
      ]
     },
     "execution_count": 5,
     "metadata": {},
     "output_type": "execute_result"
    },
    {
     "data": {
      "image/png": "[encoded data removed]",
      "text/plain": [
       "<matplotlib.figure.Figure at 0x1a12563518>"
      ]
     },
     "metadata": {},
     "output_type": "display_data"
    }
   ],
   "source": [
    "# Creating Histogram and Box Plot of all continuous features to check if there is any outlier in the dataset.\n",
    "fig, axes = plt.subplots(1, 2)\n",
    "continuous_features.hist(\"loan_amnt\", bins = 30, ax=axes[0])\n",
    "continuous_features.boxplot(\"loan_amnt\")\n",
    "# We do some outliers for loan_amnt in the below box plot"
   ]
  },
  {
   "cell_type": "code",
   "execution_count": 6,
   "metadata": {},
   "outputs": [
    {
     "data": {
      "text/plain": [
       "<matplotlib.axes._subplots.AxesSubplot at 0x1a140d5eb8>"
      ]
     },
     "execution_count": 6,
     "metadata": {},
     "output_type": "execute_result"
    },
    {
     "data": {
      "image/png": "[encoded data removed]",
      "text/plain": [
       "<matplotlib.figure.Figure at 0x1a1414a780>"
      ]
     },
     "metadata": {},
     "output_type": "display_data"
    }
   ],
   "source": [
    "fig, axes = plt.subplots(1, 2)\n",
    "continuous_features.hist(\"int_rate\", bins = 30, ax=axes[0])\n",
    "continuous_features.boxplot(\"int_rate\")\n",
    "# There are outliers for interest rate per the below box plot for int_rate"
   ]
  },
  {
   "cell_type": "code",
   "execution_count": 7,
   "metadata": {},
   "outputs": [
    {
     "data": {
      "text/plain": [
       "<matplotlib.axes._subplots.AxesSubplot at 0x1a138a4470>"
      ]
     },
     "execution_count": 7,
     "metadata": {},
     "output_type": "execute_result"
    },
    {
     "data": {
      "image/png": "[encoded data removed]",
      "text/plain": [
       "<matplotlib.figure.Figure at 0x1a13958b00>"
      ]
     },
     "metadata": {},
     "output_type": "display_data"
    }
   ],
   "source": [
    "fig, axes = plt.subplots(1, 2)\n",
    "continuous_features.hist(\"annual_inc\", bins = 100, ax=axes[0])\n",
    "continuous_features.boxplot(\"annual_inc\")\n",
    "# Annual Income definitely have outliers (people with very high income)"
   ]
  },
  {
   "cell_type": "code",
   "execution_count": 8,
   "metadata": {},
   "outputs": [
    {
     "data": {
      "text/plain": [
       "<matplotlib.axes._subplots.AxesSubplot at 0x1a13916080>"
      ]
     },
     "execution_count": 8,
     "metadata": {},
     "output_type": "execute_result"
    },
    {
     "data": {
      "image/png": "[encoded data removed]",
      "text/plain": [
       "<matplotlib.figure.Figure at 0x10af8bb38>"
      ]
     },
     "metadata": {},
     "output_type": "display_data"
    }
   ],
   "source": [
    "fig, axes = plt.subplots(1, 2)\n",
    "continuous_features.hist(\"installment\", bins = 30, ax=axes[0])\n",
    "continuous_features.boxplot(\"installment\")\n",
    "# Installments also have outliers, values that are greater than 800 per the below graphs."
   ]
  },
  {
   "cell_type": "code",
   "execution_count": 9,
   "metadata": {},
   "outputs": [
    {
     "data": {
      "text/plain": [
       "<matplotlib.axes._subplots.AxesSubplot at 0x1a13c4cba8>"
      ]
     },
     "execution_count": 9,
     "metadata": {},
     "output_type": "execute_result"
    },
    {
     "data": {
      "image/png": "[encoded data removed]",
      "text/plain": [
       "<matplotlib.figure.Figure at 0x1a139cc630>"
      ]
     },
     "metadata": {},
     "output_type": "display_data"
    }
   ],
   "source": [
    "fig, axes = plt.subplots(1, 2)\n",
    "continuous_features.hist(\"revol_util\", bins = 30, ax=axes[0])\n",
    "continuous_features.boxplot(\"revol_util\")\n",
    "# The revolving line utilization rate histogram does not seems to have any outlier."
   ]
  },
  {
   "cell_type": "code",
   "execution_count": 30,
   "metadata": {},
   "outputs": [],
   "source": [
    "# Per the above analysis on identifying outliers in about continuous features, we will use the RobustScaler to standardize the loan_amnt, int_rate, annual_inc, and installment features (that has outliers in it) and MinMaxScaler to standardize the revol_util feature."
   ]
  },
  {
   "cell_type": "code",
   "execution_count": 10,
   "metadata": {},
   "outputs": [],
   "source": [
    "mm = MinMaxScaler()\n",
    "rs = RobustScaler()"
   ]
  },
  {
   "cell_type": "code",
   "execution_count": 41,
   "metadata": {},
   "outputs": [],
   "source": []
  },
  {
   "cell_type": "code",
   "execution_count": 11,
   "metadata": {},
   "outputs": [],
   "source": [
    "continuous_features['loan_amnt'] = rs.fit_transform(continuous_features['loan_amnt'].reshape(-1,1))\n",
    "continuous_features['int_rate'] = rs.fit_transform(continuous_features['int_rate'].reshape(-1,1))\n",
    "continuous_features['annual_inc'] = rs.fit_transform(continuous_features['annual_inc'].reshape(-1,1))\n",
    "continuous_features['installment'] = rs.fit_transform(continuous_features['installment'].reshape(-1,1))\n",
    "continuous_features['revol_util'] = mm.fit_transform(continuous_features['revol_util'].reshape(-1,1))"
   ]
  },
  {
   "cell_type": "code",
   "execution_count": 12,
   "metadata": {},
   "outputs": [
    {
     "data": {
      "text/html": [
       "<div>\n",
       "<style scoped>\n",
       "    .dataframe tbody tr th:only-of-type {\n",
       "        vertical-align: middle;\n",
       "    }\n",
       "\n",
       "    .dataframe tbody tr th {\n",
       "        vertical-align: top;\n",
       "    }\n",
       "\n",
       "    .dataframe thead th {\n",
       "        text-align: right;\n",
       "    }\n",
       "</style>\n",
       "<table border=\"1\" class=\"dataframe\">\n",
       "  <thead>\n",
       "    <tr style=\"text-align: right;\">\n",
       "      <th></th>\n",
       "      <th>loan_amnt</th>\n",
       "      <th>int_rate</th>\n",
       "      <th>annual_inc</th>\n",
       "      <th>installment</th>\n",
       "      <th>revol_util</th>\n",
       "      <th>loan_status</th>\n",
       "    </tr>\n",
       "  </thead>\n",
       "  <tbody>\n",
       "    <tr>\n",
       "      <th>0</th>\n",
       "      <td>-0.500000</td>\n",
       "      <td>-0.213768</td>\n",
       "      <td>-0.833333</td>\n",
       "      <td>-0.444158</td>\n",
       "      <td>0.837838</td>\n",
       "      <td>0</td>\n",
       "    </tr>\n",
       "    <tr>\n",
       "      <th>1</th>\n",
       "      <td>-0.760417</td>\n",
       "      <td>0.623188</td>\n",
       "      <td>-0.690476</td>\n",
       "      <td>-0.840025</td>\n",
       "      <td>0.094094</td>\n",
       "      <td>1</td>\n",
       "    </tr>\n",
       "    <tr>\n",
       "      <th>2</th>\n",
       "      <td>-0.770833</td>\n",
       "      <td>0.748188</td>\n",
       "      <td>-1.113048</td>\n",
       "      <td>-0.745899</td>\n",
       "      <td>0.985986</td>\n",
       "      <td>0</td>\n",
       "    </tr>\n",
       "    <tr>\n",
       "      <th>3</th>\n",
       "      <td>0.020833</td>\n",
       "      <td>0.300725</td>\n",
       "      <td>-0.233333</td>\n",
       "      <td>0.233701</td>\n",
       "      <td>0.210210</td>\n",
       "      <td>0</td>\n",
       "    </tr>\n",
       "    <tr>\n",
       "      <th>4</th>\n",
       "      <td>-0.500000</td>\n",
       "      <td>-0.711957</td>\n",
       "      <td>-0.547619</td>\n",
       "      <td>-0.468785</td>\n",
       "      <td>0.283283</td>\n",
       "      <td>0</td>\n",
       "    </tr>\n",
       "  </tbody>\n",
       "</table>\n",
       "</div>"
      ],
      "text/plain": [
       "   loan_amnt  int_rate  annual_inc  installment  revol_util  loan_status\n",
       "0  -0.500000 -0.213768   -0.833333    -0.444158    0.837838            0\n",
       "1  -0.760417  0.623188   -0.690476    -0.840025    0.094094            1\n",
       "2  -0.770833  0.748188   -1.113048    -0.745899    0.985986            0\n",
       "3   0.020833  0.300725   -0.233333     0.233701    0.210210            0\n",
       "4  -0.500000 -0.711957   -0.547619    -0.468785    0.283283            0"
      ]
     },
     "execution_count": 12,
     "metadata": {},
     "output_type": "execute_result"
    }
   ],
   "source": [
    "continuous_features.head()"
   ]
  },
  {
   "cell_type": "code",
   "execution_count": 45,
   "metadata": {},
   "outputs": [],
   "source": [
    "# 3. (2 point) Create a training set with 80% of cases, and a testing set\n",
    "# with 20% of cases. (use seed of 12345 so your results will be the\n",
    "# same as everyone else)"
   ]
  },
  {
   "cell_type": "code",
   "execution_count": 13,
   "metadata": {},
   "outputs": [],
   "source": [
    "# Seperate input features from target feature\n",
    "x = continuous_features[[\"loan_amnt\", \"int_rate\", \"annual_inc\", \"installment\", \"revol_util\"]]\n",
    "y = continuous_features[\"loan_status\"].as_matrix()"
   ]
  },
  {
   "cell_type": "code",
   "execution_count": 14,
   "metadata": {},
   "outputs": [],
   "source": [
    "## Split the data into training and test sets into 80:20\n",
    "x_train, x_test, y_train, y_test = train_test_split(x.values, y, test_size=.2, random_state=12345)"
   ]
  },
  {
   "cell_type": "code",
   "execution_count": 15,
   "metadata": {},
   "outputs": [
    {
     "data": {
      "text/plain": [
       "((31163, 5), (31163,), (7791, 5), (7791,))"
      ]
     },
     "execution_count": 15,
     "metadata": {},
     "output_type": "execute_result"
    }
   ],
   "source": [
    "x_train.shape, y_train.shape, x_test.shape, y_test.shape"
   ]
  },
  {
   "cell_type": "code",
   "execution_count": 66,
   "metadata": {},
   "outputs": [],
   "source": [
    "# 4. (2 point) Select the best k by running the kNN classifier for a variety\n",
    "# of k and computing the accuracy values on the testing set for each\n",
    "# run."
   ]
  },
  {
   "cell_type": "code",
   "execution_count": 16,
   "metadata": {},
   "outputs": [
    {
     "data": {
      "text/plain": [
       "176.5304506310455"
      ]
     },
     "execution_count": 16,
     "metadata": {},
     "output_type": "execute_result"
    }
   ],
   "source": [
    "## We will use the the square root of the training dataset sample size as a starting point for the value of K\n",
    "import math\n",
    "math.sqrt(x_train.shape[0])"
   ]
  },
  {
   "cell_type": "code",
   "execution_count": 17,
   "metadata": {},
   "outputs": [
    {
     "name": "stdout",
     "output_type": "stream",
     "text": [
      "score: 85.5%\n",
      "accuracy_score: 85.5%\n"
     ]
    }
   ],
   "source": [
    "# K = 176\n",
    "# Create the estimator. Use the weigtage distance to determine the class label.\n",
    "knn = KNeighborsClassifier(n_neighbors=176, weights='distance')\n",
    "# Fit the model\n",
    "knn.fit(x_train, y_train)\n",
    "## Check accuracy score\n",
    "print('score: {}%'.format(round(knn.score(x_test,y_test)*100, 2)))\n",
    "y_pred = knn.predict(x_test)\n",
    "print('accuracy_score: {}%'.format(round(accuracy_score(y_test, y_pred)*100, 2)))"
   ]
  },
  {
   "cell_type": "code",
   "execution_count": 18,
   "metadata": {},
   "outputs": [
    {
     "name": "stdout",
     "output_type": "stream",
     "text": [
      "score: 85.47%\n",
      "accuracy_score: 85.47%\n"
     ]
    }
   ],
   "source": [
    "# K = 150\n",
    "# Create the estimator. Use the weigtage distance to determine the class label.\n",
    "knn = KNeighborsClassifier(n_neighbors=150, weights='distance')\n",
    "# Fit the model\n",
    "knn.fit(x_train, y_train)\n",
    "## Check accuracy score\n",
    "print('score: {}%'.format(round(knn.score(x_test,y_test)*100, 2)))\n",
    "y_pred = knn.predict(x_test)\n",
    "print('accuracy_score: {}%'.format(round(accuracy_score(y_test, y_pred)*100, 2)))"
   ]
  },
  {
   "cell_type": "code",
   "execution_count": 19,
   "metadata": {},
   "outputs": [
    {
     "name": "stdout",
     "output_type": "stream",
     "text": [
      "score: 85.46%\n",
      "accuracy_score: 85.46%\n"
     ]
    }
   ],
   "source": [
    "# K = 100\n",
    "# Create the estimator. Use the weigtage distance to determine the class label.\n",
    "knn = KNeighborsClassifier(n_neighbors=100, weights='distance')\n",
    "# Fit the model\n",
    "knn.fit(x_train, y_train)\n",
    "## Check accuracy score\n",
    "print('score: {}%'.format(round(knn.score(x_test,y_test)*100, 2)))\n",
    "y_pred = knn.predict(x_test)\n",
    "print('accuracy_score: {}%'.format(round(accuracy_score(y_test, y_pred)*100, 2)))"
   ]
  },
  {
   "cell_type": "code",
   "execution_count": 20,
   "metadata": {},
   "outputs": [
    {
     "name": "stdout",
     "output_type": "stream",
     "text": [
      "score: 85.38%\n",
      "accuracy_score: 85.38%\n"
     ]
    }
   ],
   "source": [
    "# K = 50\n",
    "# Create the estimator. Use the weigtage distance to determine the class label.\n",
    "knn = KNeighborsClassifier(n_neighbors=50, weights='distance')\n",
    "# Fit the model\n",
    "knn.fit(x_train, y_train)\n",
    "## Check accuracy score\n",
    "print('score: {}%'.format(round(knn.score(x_test,y_test)*100, 2)))\n",
    "y_pred = knn.predict(x_test)\n",
    "print('accuracy_score: {}%'.format(round(accuracy_score(y_test, y_pred)*100, 2)))"
   ]
  },
  {
   "cell_type": "code",
   "execution_count": 21,
   "metadata": {},
   "outputs": [
    {
     "name": "stdout",
     "output_type": "stream",
     "text": [
      "score: 85.29%\n",
      "accuracy_score: 85.29%\n"
     ]
    }
   ],
   "source": [
    "# K = 20\n",
    "# Create the estimator. Use the weigtage distance to determine the class label.\n",
    "knn = KNeighborsClassifier(n_neighbors=20, weights='distance')\n",
    "# Fit the model\n",
    "knn.fit(x_train, y_train)\n",
    "## Check accuracy score\n",
    "print('score: {}%'.format(round(knn.score(x_test,y_test)*100, 2)))\n",
    "y_pred = knn.predict(x_test)\n",
    "print('accuracy_score: {}%'.format(round(accuracy_score(y_test, y_pred)*100, 2)))"
   ]
  },
  {
   "cell_type": "code",
   "execution_count": 22,
   "metadata": {},
   "outputs": [
    {
     "name": "stdout",
     "output_type": "stream",
     "text": [
      "score: 84.61%\n",
      "accuracy_score: 84.61%\n"
     ]
    }
   ],
   "source": [
    "# K = 10\n",
    "# Create the estimator. Use the weigtage distance to determine the class label.\n",
    "knn = KNeighborsClassifier(n_neighbors=10, weights='distance')\n",
    "# Fit the model\n",
    "knn.fit(x_train, y_train)\n",
    "## Check accuracy score\n",
    "print('score: {}%'.format(round(knn.score(x_test,y_test)*100, 2)))\n",
    "y_pred = knn.predict(x_test)\n",
    "print('accuracy_score: {}%'.format(round(accuracy_score(y_test, y_pred)*100, 2)))"
   ]
  },
  {
   "cell_type": "code",
   "execution_count": 23,
   "metadata": {},
   "outputs": [
    {
     "name": "stdout",
     "output_type": "stream",
     "text": [
      "score: 82.95%\n",
      "accuracy_score: 82.95%\n"
     ]
    }
   ],
   "source": [
    "# K = 5\n",
    "# Create the estimator. Use the weigtage distance to determine the class label.\n",
    "knn = KNeighborsClassifier(n_neighbors=5, weights='distance')\n",
    "# Fit the model\n",
    "knn.fit(x_train, y_train)\n",
    "## Check accuracy score\n",
    "print('score: {}%'.format(round(knn.score(x_test,y_test)*100, 2)))\n",
    "y_pred = knn.predict(x_test)\n",
    "print('accuracy_score: {}%'.format(round(accuracy_score(y_test, y_pred)*100, 2)))"
   ]
  },
  {
   "cell_type": "code",
   "execution_count": 24,
   "metadata": {},
   "outputs": [
    {
     "name": "stdout",
     "output_type": "stream",
     "text": [
      "score: 80.84%\n",
      "accuracy_score: 80.84%\n"
     ]
    }
   ],
   "source": [
    "# K = 3\n",
    "# Create the estimator. Use the weigtage distance to determine the class label.\n",
    "knn = KNeighborsClassifier(n_neighbors=3, weights='distance')\n",
    "# Fit the model\n",
    "knn.fit(x_train, y_train)\n",
    "## Check accuracy score\n",
    "print('score: {}%'.format(round(knn.score(x_test,y_test)*100, 2)))\n",
    "y_pred = knn.predict(x_test)\n",
    "print('accuracy_score: {}%'.format(round(accuracy_score(y_test, y_pred)*100, 2)))"
   ]
  },
  {
   "cell_type": "code",
   "execution_count": 25,
   "metadata": {},
   "outputs": [
    {
     "name": "stdout",
     "output_type": "stream",
     "text": [
      "score: 85.51%\n",
      "accuracy_score: 85.51%\n"
     ]
    }
   ],
   "source": [
    "# K = 200\n",
    "# Create the estimator. Use the weigtage distance to determine the class label.\n",
    "knn = KNeighborsClassifier(n_neighbors=200, weights='distance')\n",
    "# Fit the model\n",
    "knn.fit(x_train, y_train)\n",
    "## Check accuracy score\n",
    "print('score: {}%'.format(round(knn.score(x_test,y_test)*100, 2)))\n",
    "y_pred = knn.predict(x_test)\n",
    "print('accuracy_score: {}%'.format(round(accuracy_score(y_test, y_pred)*100, 2)))"
   ]
  },
  {
   "cell_type": "code",
   "execution_count": 26,
   "metadata": {},
   "outputs": [
    {
     "name": "stdout",
     "output_type": "stream",
     "text": [
      "score: 85.51%\n",
      "accuracy_score: 85.51%\n"
     ]
    }
   ],
   "source": [
    "# K = 250\n",
    "# Create the estimator. Use the weigtage distance to determine the class label.\n",
    "knn = KNeighborsClassifier(n_neighbors=250, weights='distance')\n",
    "# Fit the model\n",
    "knn.fit(x_train, y_train)\n",
    "## Check accuracy score\n",
    "print('score: {}%'.format(round(knn.score(x_test,y_test)*100, 2)))\n",
    "y_pred = knn.predict(x_test)\n",
    "print('accuracy_score: {}%'.format(round(accuracy_score(y_test, y_pred)*100, 2)))"
   ]
  },
  {
   "cell_type": "code",
   "execution_count": 27,
   "metadata": {},
   "outputs": [
    {
     "name": "stdout",
     "output_type": "stream",
     "text": [
      "score: 85.5%\n",
      "accuracy_score: 85.5%\n"
     ]
    }
   ],
   "source": [
    "# K = 500\n",
    "# Create the estimator. Use the weigtage distance to determine the class label.\n",
    "knn = KNeighborsClassifier(n_neighbors=500, weights='distance')\n",
    "# Fit the model\n",
    "knn.fit(x_train, y_train)\n",
    "## Check accuracy score\n",
    "print('score: {}%'.format(round(knn.score(x_test,y_test)*100, 2)))\n",
    "y_pred = knn.predict(x_test)\n",
    "print('accuracy_score: {}%'.format(round(accuracy_score(y_test, y_pred)*100, 2)))"
   ]
  },
  {
   "cell_type": "code",
   "execution_count": 28,
   "metadata": {},
   "outputs": [
    {
     "name": "stdout",
     "output_type": "stream",
     "text": [
      "score: 85.51%\n",
      "accuracy_score: 85.51%\n"
     ]
    }
   ],
   "source": [
    "# K = 1000\n",
    "# Create the estimator. Use the weigtage distance to determine the class label.\n",
    "knn = KNeighborsClassifier(n_neighbors=1000, weights='distance')\n",
    "# Fit the model\n",
    "knn.fit(x_train, y_train)\n",
    "## Check accuracy score\n",
    "print('score: {}%'.format(round(knn.score(x_test,y_test)*100, 2)))\n",
    "y_pred = knn.predict(x_test)\n",
    "print('accuracy_score: {}%'.format(round(accuracy_score(y_test, y_pred)*100, 2)))"
   ]
  },
  {
   "cell_type": "code",
   "execution_count": null,
   "metadata": {},
   "outputs": [],
   "source": [
    "# Per the above analysis, K=200 and K=1000 gives slightly better accuracy than other K values. However, if we look at the predicted value loan_status using K =1000 and K=200, we only see loan_status=0. See the example below.\n"
   ]
  },
  {
   "cell_type": "code",
   "execution_count": 29,
   "metadata": {},
   "outputs": [
    {
     "data": {
      "text/plain": [
       "0"
      ]
     },
     "execution_count": 29,
     "metadata": {},
     "output_type": "execute_result"
    }
   ],
   "source": [
    "# K = 1000\n",
    "# Create the estimator. Use the weigtage distance to determine the class label.\n",
    "knn = KNeighborsClassifier(n_neighbors=1000, weights='distance')\n",
    "# Fit the model\n",
    "knn.fit(x_train, y_train)\n",
    "## Check the prediction\n",
    "y_pred = knn.predict(x_test)\n",
    "y_pred[y_pred>0].sum()\n",
    "# Zero 1 prediction"
   ]
  },
  {
   "cell_type": "code",
   "execution_count": 30,
   "metadata": {},
   "outputs": [
    {
     "data": {
      "text/plain": [
       "2"
      ]
     },
     "execution_count": 30,
     "metadata": {},
     "output_type": "execute_result"
    }
   ],
   "source": [
    "# K = 200\n",
    "# Create the estimator. Use the weigtage distance to determine the class label.\n",
    "knn = KNeighborsClassifier(n_neighbors=200, weights='distance')\n",
    "# Fit the model\n",
    "knn.fit(x_train, y_train)\n",
    "## Check the prediction\n",
    "y_pred = knn.predict(x_test)\n",
    "y_pred[y_pred>0].sum()\n",
    "# Only two 1 prediction"
   ]
  },
  {
   "cell_type": "code",
   "execution_count": 217,
   "metadata": {},
   "outputs": [],
   "source": [
    "# Therefore, I would go with a K value of 3 or 5, as the model can predict both loan_status 0 and 1. See example below."
   ]
  },
  {
   "cell_type": "code",
   "execution_count": 31,
   "metadata": {},
   "outputs": [
    {
     "data": {
      "text/plain": [
       "393"
      ]
     },
     "execution_count": 31,
     "metadata": {},
     "output_type": "execute_result"
    }
   ],
   "source": [
    "# K = 5\n",
    "# Create the estimator. Use the weigtage distance to determine the class label.\n",
    "knn = KNeighborsClassifier(n_neighbors=5, weights='distance')\n",
    "# Fit the model\n",
    "knn.fit(x_train, y_train)\n",
    "## Check the prediction\n",
    "y_pred = knn.predict(x_test)\n",
    "y_pred[y_pred>0].sum()\n",
    "# 393 one prediction"
   ]
  },
  {
   "cell_type": "code",
   "execution_count": 32,
   "metadata": {},
   "outputs": [
    {
     "data": {
      "text/plain": [
       "604"
      ]
     },
     "execution_count": 32,
     "metadata": {},
     "output_type": "execute_result"
    }
   ],
   "source": [
    "# K = 3\n",
    "# Create the estimator. Use the weigtage distance to determine the class label.\n",
    "knn = KNeighborsClassifier(n_neighbors=3, weights='distance')\n",
    "# Fit the model\n",
    "knn.fit(x_train, y_train)\n",
    "## Check the prediction\n",
    "y_pred = knn.predict(x_test)\n",
    "y_pred[y_pred>0].sum()\n",
    "# 604 one prediction"
   ]
  },
  {
   "cell_type": "code",
   "execution_count": 233,
   "metadata": {},
   "outputs": [],
   "source": [
    "# 5. Apply the kNN classifier with k=3 and compute the\n",
    "# classification matrix, accuracy, recall, and precision."
   ]
  },
  {
   "cell_type": "code",
   "execution_count": 33,
   "metadata": {},
   "outputs": [
    {
     "name": "stdout",
     "output_type": "stream",
     "text": [
      "score: 80.84%\n",
      "accuracy_score: 80.84%\n"
     ]
    }
   ],
   "source": [
    "# K = 3\n",
    "# Create the estimator. Use the weigtage distance to determine the class label.\n",
    "knn = KNeighborsClassifier(n_neighbors=3, weights='distance')\n",
    "# Fit the model\n",
    "knn.fit(x_train, y_train)\n",
    "## Check accuracy score\n",
    "print('score: {}%'.format(round(knn.score(x_test,y_test)*100, 2)))\n",
    "y_pred = knn.predict(x_test)\n",
    "print('accuracy_score: {}%'.format(round(accuracy_score(y_test, y_pred)*100, 2)))"
   ]
  },
  {
   "cell_type": "code",
   "execution_count": 34,
   "metadata": {},
   "outputs": [],
   "source": [
    "# Run 10 fold cross validation\n",
    "cvs = cross_val_score(knn,x.values,y,cv=10)"
   ]
  },
  {
   "cell_type": "code",
   "execution_count": 35,
   "metadata": {},
   "outputs": [
    {
     "name": "stdout",
     "output_type": "stream",
     "text": [
      "Mean Score: 81.15%, Std. Deviation: 0.82\n"
     ]
    }
   ],
   "source": [
    "# Mean Score after running 10 fold cross validation.\n",
    "print('Mean Score: {}%, Std. Deviation: {}'.format(round((cvs.mean())*100, 2), round((cvs.std())*100, 2)))"
   ]
  },
  {
   "cell_type": "code",
   "execution_count": 36,
   "metadata": {},
   "outputs": [
    {
     "name": "stdout",
     "output_type": "stream",
     "text": [
      "      0    1\n",
      "0  6178  484\n",
      "1  1009  120\n",
      "WHERE\n",
      "tn=6178, fp=484, fn=1009, tp=120\n"
     ]
    }
   ],
   "source": [
    "#Confusion Matrix\n",
    "conf_mat = pd.DataFrame(confusion_matrix(y_test,y_pred), columns = [0, 1], index = [0,1])\n",
    "print(conf_mat)\n",
    "tn, fp, fn, tp = confusion_matrix(y_test,y_pred).ravel()\n",
    "print('WHERE')\n",
    "print('tn={}, fp={}, fn={}, tp={}'.format(tn, fp, fn, tp))"
   ]
  },
  {
   "cell_type": "code",
   "execution_count": 37,
   "metadata": {},
   "outputs": [
    {
     "name": "stdout",
     "output_type": "stream",
     "text": [
      "accuracy: 80.84%\n",
      "recall: 10.63%\n",
      "precision: 19.87%\n"
     ]
    }
   ],
   "source": [
    "# Precision tells us that of all the samples we classified as true how many are actually true.\n",
    "# Recall tells us that of all the actual true samples how many did we classify as true.\n",
    "print('accuracy: {}%'.format(round(accuracy_score(y_test, y_pred)*100, 2)))\n",
    "print('recall: {}%'.format(round(recall_score(y_test, y_pred)*100, 2)))\n",
    "print('precision: {}%'.format(round(precision_score(y_test, y_pred)*100, 2)))"
   ]
  },
  {
   "cell_type": "code",
   "execution_count": null,
   "metadata": {},
   "outputs": [],
   "source": []
  },
  {
   "cell_type": "code",
   "execution_count": null,
   "metadata": {},
   "outputs": [],
   "source": []
  }
 ],
 "metadata": {
  "kernelspec": {
   "display_name": "Python 3",
   "language": "python",
   "name": "python3"
  },
  "language_info": {
   "codemirror_mode": {
    "name": "ipython",
    "version": 3
   },
   "file_extension": ".py",
   "mimetype": "text/x-python",
   "name": "python",
   "nbconvert_exporter": "python",
   "pygments_lexer": "ipython3",
   "version": "3.7.1"
  }
 },
 "nbformat": 4,
 "nbformat_minor": 2
}
